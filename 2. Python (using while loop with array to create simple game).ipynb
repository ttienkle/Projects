{
 "cells": [
  {
   "cell_type": "code",
   "execution_count": 80,
   "metadata": {},
   "outputs": [],
   "source": [
    "import random\n",
    "import numpy as np"
   ]
  },
  {
   "cell_type": "markdown",
   "metadata": {},
   "source": [
    "#### Trong project này chúng ta sẽ mô phỏng lại trò chơi dân gian oẳn tù tì.\n",
    "#### Cụ thể, chúng ta sẽ oẳn tù tì với máy. Máy sẽ chọn random búa, kéo, hoặc lá trong mỗi lần oẳn tù tì.\n",
    "#### Chúng ta sẽ chọn ra búa, kéo hoặc lá sau đó in ra kết quả. Trường hợp người chơi nhập sai, yêu cầu người chơi nhập lại theo đúng chính tả theo 3 sự lựa chọn búa, kéo, hoặc lá.\n",
    "#### Lưu ý, sau mỗi lượt chơi, máy sẽ random chọn lại búa kéo hoặc lá.\n",
    "\n",
    "#### Các kiến thức cover trong mini project này: Array, random, while loop, if - elif - else."
   ]
  },
  {
   "cell_type": "code",
   "execution_count": null,
   "metadata": {},
   "outputs": [],
   "source": [
    "# tạo array búa, kéo, lá\n",
    "options = np.array(['búa','kéo','lá'])\n",
    "\n",
    "# máy chọn random\n",
    "# tạo vòng lặp while để chạy chương trình\n",
    "\n",
    "while True:\n",
    "    while True:\n",
    "        player_pick = input('Bạn hãy chọn búa, kéo, hoặc lá: ')\n",
    "        if player_pick != 'búa' and player_pick != 'lá' and player_pick != 'kéo':\n",
    "            print('Vui lòng nhập đúng chính tả bằng tiếng Việt có dấu ;-;')\n",
    "        else:\n",
    "            break\n",
    "    computer_pick = random.choice(options)\n",
    "    print('Máy tính chọn: ' + computer_pick)\n",
    "    print('Người chơi chọn: ' + player_pick)\n",
    "\n",
    "    if player_pick == computer_pick:\n",
    "        print('Bất phân thắng bại ^o^!~')\n",
    "    elif player_pick =='búa':\n",
    "        if computer_pick =='lá':\n",
    "            print('Bạn đã thua hjx..')\n",
    "        else:\n",
    "            print('Bạn đã thắng yayyy!!')\n",
    "    elif player_pick =='lá':\n",
    "        if computer_pick =='kéo':\n",
    "            print('Bạn đã thua hjx..')\n",
    "        else:\n",
    "            print('Bạn đã thắng yayyy!!')\n",
    "    elif player_pick =='kéo':\n",
    "        if computer_pick =='búa':\n",
    "            print('Bạn đã thua hjx..')\n",
    "        else:\n",
    "            print('Bạn đã thắng yayyy!!')\n",
    "\n",
    "    play_again = input(\"Bạn có muốn chơi tiếp? (y/n): \")\n",
    "    if play_again.lower() != \"y\":\n",
    "        print('Thanks for playing with us ^^~')\n",
    "        break\n"
   ]
  },
  {
   "cell_type": "code",
   "execution_count": null,
   "metadata": {},
   "outputs": [],
   "source": []
  },
  {
   "cell_type": "code",
   "execution_count": null,
   "metadata": {},
   "outputs": [],
   "source": []
  },
  {
   "cell_type": "code",
   "execution_count": null,
   "metadata": {},
   "outputs": [],
   "source": []
  }
 ],
 "metadata": {
  "kernelspec": {
   "display_name": "Python 3 (ipykernel)",
   "language": "python",
   "name": "python3"
  },
  "language_info": {
   "codemirror_mode": {
    "name": "ipython",
    "version": 3
   },
   "file_extension": ".py",
   "mimetype": "text/x-python",
   "name": "python",
   "nbconvert_exporter": "python",
   "pygments_lexer": "ipython3",
   "version": "3.9.12"
  }
 },
 "nbformat": 4,
 "nbformat_minor": 2
}
