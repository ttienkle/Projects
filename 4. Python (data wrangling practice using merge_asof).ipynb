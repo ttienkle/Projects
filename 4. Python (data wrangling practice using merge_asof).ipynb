{
 "cells": [
  {
   "cell_type": "code",
   "execution_count": 16,
   "id": "263a38c3",
   "metadata": {},
   "outputs": [],
   "source": [
    "#import libraries\n",
    "import numpy as np\n",
    "import pandas as pd "
   ]
  },
  {
   "cell_type": "code",
   "execution_count": 17,
   "id": "f5f6865e",
   "metadata": {
    "scrolled": false
   },
   "outputs": [],
   "source": [
    "#import database: 2 csv files \n",
    "prices = pd.read_csv(\"prices.csv\")\n",
    "sales = pd.read_csv(\"sales.csv\")"
   ]
  },
  {
   "cell_type": "code",
   "execution_count": 20,
   "id": "ade8481a",
   "metadata": {},
   "outputs": [
    {
     "name": "stdout",
     "output_type": "stream",
     "text": [
      "     product_id          ordered_at  quantity_ordered\n",
      "86      3954203 2018-09-11 01:43:00                 1\n",
      "28      4085861 2018-09-11 06:26:00                 1\n",
      "26      4085861 2018-09-11 06:53:00                 1\n",
      "27      4085861 2018-09-11 08:24:00                 1\n",
      "123     4085861 2018-09-11 09:30:00                 1\n",
      "..          ...                 ...               ...\n",
      "67      4085861 2018-09-18 20:23:00                 1\n",
      "77      4085861 2018-09-18 20:43:00                 1\n",
      "79      4085861 2018-09-18 20:54:00                 1\n",
      "87      3954203 2018-09-18 21:26:00                 1\n",
      "11      3998909 2018-09-18 22:11:00                 1\n",
      "\n",
      "[175 rows x 3 columns]\n",
      "    product_id  old_price  new_price          updated_at\n",
      "4      3954203      68800      60000 2018-09-10 16:32:00\n",
      "7      3998909      19000      17000 2018-09-10 16:35:00\n",
      "0           64     270000     239000 2018-09-10 16:37:00\n",
      "11     4085861      60000      53500 2018-09-11 08:51:00\n",
      "1      3954203      60000      64000 2018-09-11 11:54:00\n",
      "9      4085861      53500      67000 2018-09-12 03:51:00\n",
      "6      3998909      17000      15500 2018-09-13 06:43:00\n",
      "13     4085861      67000      62500 2018-09-13 06:43:00\n",
      "3      3954203      64000      60500 2018-09-15 03:49:00\n",
      "12     4085861      62500      58000 2018-09-15 03:51:00\n",
      "5      3998909      15500      16500 2018-09-16 05:09:00\n",
      "10     4085861      58000      53500 2018-09-17 03:35:00\n",
      "2      3954203      60500      57500 2018-09-17 22:59:00\n",
      "8      4085861      53500      52000 2018-09-17 22:59:00\n"
     ]
    }
   ],
   "source": [
    "#change data type to datetime & sorting based on updated date & ordered date\n",
    "prices[\"updated_at\"] = pd.to_datetime(prices[\"updated_at\"])\n",
    "sales[\"ordered_at\"] = pd.to_datetime(sales[\"ordered_at\"])\n",
    "prices_sorted = prices.sort_values(by =[\"updated_at\"])\n",
    "sales_sorted = sales.sort_values(by =[\"ordered_at\"])\n",
    "print(sales_sorted)\n",
    "print(prices_sorted)"
   ]
  },
  {
   "cell_type": "code",
   "execution_count": 23,
   "id": "c1152146",
   "metadata": {
    "scrolled": false
   },
   "outputs": [],
   "source": [
    "#determine the nearest update price for each order\n",
    "data = pd.merge_asof(sales_sorted, prices_sorted, left_on ='ordered_at', right_on ='updated_at', by = 'product_id', direction=\"nearest\")"
   ]
  },
  {
   "cell_type": "code",
   "execution_count": 25,
   "id": "3c608d4a",
   "metadata": {},
   "outputs": [
    {
     "name": "stdout",
     "output_type": "stream",
     "text": [
      "   product_id          ordered_at  quantity_ordered  old_price  new_price  \\\n",
      "0     3954203 2018-09-11 01:43:00                 1      68800      60000   \n",
      "1     4085861 2018-09-11 06:26:00                 1      60000      53500   \n",
      "2     4085861 2018-09-11 06:53:00                 1      60000      53500   \n",
      "3     4085861 2018-09-11 08:24:00                 1      60000      53500   \n",
      "4     4085861 2018-09-11 09:30:00                 1      60000      53500   \n",
      "5     4085861 2018-09-11 11:06:00                 1      60000      53500   \n",
      "6     3954203 2018-09-11 11:11:00                 1      60000      64000   \n",
      "7     3954203 2018-09-11 11:11:00                 1      60000      64000   \n",
      "8     4085861 2018-09-11 11:34:00                 1      60000      53500   \n",
      "9     4085861 2018-09-11 11:47:00                 2      60000      53500   \n",
      "\n",
      "           updated_at  listed_price  \n",
      "0 2018-09-10 16:32:00         60000  \n",
      "1 2018-09-11 08:51:00         60000  \n",
      "2 2018-09-11 08:51:00         60000  \n",
      "3 2018-09-11 08:51:00         60000  \n",
      "4 2018-09-11 08:51:00         53500  \n",
      "5 2018-09-11 08:51:00         53500  \n",
      "6 2018-09-11 11:54:00         60000  \n",
      "7 2018-09-11 11:54:00         60000  \n",
      "8 2018-09-11 08:51:00         53500  \n",
      "9 2018-09-11 08:51:00         53500  \n"
     ]
    }
   ],
   "source": [
    "#compare \"ordered_at\" and nearest \"updated_at\" timestamps to figure out correct updated listed price for each order\n",
    "data['listed_price'] = np.where(data['ordered_at'] >= data['updated_at'],\n",
    "                                         data['new_price'], data['old_price'])\n",
    "print(data.head(10))"
   ]
  },
  {
   "cell_type": "code",
   "execution_count": 26,
   "id": "9644224a",
   "metadata": {},
   "outputs": [
    {
     "name": "stdout",
     "output_type": "stream",
     "text": [
      "     product_id          ordered_at  quantity_ordered  listed_price  \\\n",
      "26           64 2018-09-11 19:32:00                 1        239000   \n",
      "39           64 2018-09-12 13:23:00                 1        239000   \n",
      "42           64 2018-09-12 16:00:00                 1        239000   \n",
      "79           64 2018-09-14 20:10:00                 1        239000   \n",
      "0       3954203 2018-09-11 01:43:00                 1         60000   \n",
      "..          ...                 ...               ...           ...   \n",
      "162     4085861 2018-09-18 15:56:00                 1         52000   \n",
      "168     4085861 2018-09-18 18:52:00                 1         52000   \n",
      "170     4085861 2018-09-18 20:23:00                 1         52000   \n",
      "171     4085861 2018-09-18 20:43:00                 1         52000   \n",
      "172     4085861 2018-09-18 20:54:00                 1         52000   \n",
      "\n",
      "     total_revenue  \n",
      "26          239000  \n",
      "39          239000  \n",
      "42          239000  \n",
      "79          239000  \n",
      "0            60000  \n",
      "..             ...  \n",
      "162          52000  \n",
      "168          52000  \n",
      "170          52000  \n",
      "171          52000  \n",
      "172          52000  \n",
      "\n",
      "[175 rows x 5 columns]\n"
     ]
    }
   ],
   "source": [
    "#calculate revenue\n",
    "summary_data = data[[\"product_id\",\"ordered_at\",\"quantity_ordered\",\"listed_price\"]].sort_values(by =[\"product_id\",\"ordered_at\"])\n",
    "summary_data[\"total_revenue\"] = summary_data[\"quantity_ordered\"] * summary_data[\"listed_price\"] \n",
    "print(summary_data)"
   ]
  },
  {
   "cell_type": "code",
   "execution_count": 30,
   "id": "9a893f6f",
   "metadata": {},
   "outputs": [
    {
     "name": "stdout",
     "output_type": "stream",
     "text": [
      "                         total_revenue\n",
      "product_id listed_price               \n",
      "64         239000               956000\n",
      "3954203    57500                 57500\n",
      "           60000                180000\n",
      "           64000                640000\n",
      "3998909    15500                 15500\n",
      "           16500                231000\n",
      "           17000                 34000\n",
      "4085861    52000               1040000\n",
      "           53500               2140000\n",
      "           58000               2204000\n",
      "           60000                180000\n",
      "           62500               1812500\n",
      "           67000                871000\n"
     ]
    }
   ],
   "source": [
    "#group total revenue by product id & listed price level\n",
    "result = summary_data.groupby(by =[\"product_id\",\"listed_price\"]).agg({\"total_revenue\": np.sum})\n",
    "print(result)"
   ]
  },
  {
   "cell_type": "code",
   "execution_count": null,
   "id": "3408e736",
   "metadata": {},
   "outputs": [],
   "source": []
  }
 ],
 "metadata": {
  "kernelspec": {
   "display_name": "Python 3 (ipykernel)",
   "language": "python",
   "name": "python3"
  },
  "language_info": {
   "codemirror_mode": {
    "name": "ipython",
    "version": 3
   },
   "file_extension": ".py",
   "mimetype": "text/x-python",
   "name": "python",
   "nbconvert_exporter": "python",
   "pygments_lexer": "ipython3",
   "version": "3.9.12"
  }
 },
 "nbformat": 4,
 "nbformat_minor": 5
}
