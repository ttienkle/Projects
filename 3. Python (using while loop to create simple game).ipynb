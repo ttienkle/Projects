{
 "cells": [
  {
   "cell_type": "code",
   "execution_count": 6,
   "metadata": {},
   "outputs": [],
   "source": [
    "import random"
   ]
  },
  {
   "cell_type": "markdown",
   "metadata": {},
   "source": [
    "### Trong project này, chúng ta sẽ làm 1 trò chơi nhỏ mang tên đoán số. Cụ thể, Máy tính sẽ chọn random 1 số từ 1 đến 10 (không in ra màn hình).\n",
    "### Chúng ta sẽ đoán máy tính chọn số bao nhiêu?\n",
    "#### - Nếu số chúng ta đoán thấp hơn máy tính thì in ra \"Your guessing number is too low\"\n",
    "#### - Nếu số chúng ta đoán cao hơn máy tính thì in ra \"Your guessing number is too high\"\n",
    "#### - Nếu chúng ta đoán đúng số thì in ra \"You got the correct number after\" xx \"tries\" trong đó xx là số lần đoán. (xx <= 5)\n",
    "#### - Trường hợp 5 lần đoán sai thì sẽ dừng trò chơi và in ra \"Gameover!!! The correct number is yy\" trong đó yy là số mà máy tính chọn\n",
    "\n",
    "#### Những kiến thức cover trong project này: input(), print(), while loop, if - elif - else, break."
   ]
  },
  {
   "cell_type": "code",
   "execution_count": 7,
   "metadata": {},
   "outputs": [
    {
     "name": "stdout",
     "output_type": "stream",
     "text": [
      "Please input your name: Tien\n",
      "Welcome to the game Tien ^^~\n"
     ]
    }
   ],
   "source": [
    "# generate random number\n",
    "import numpy as np\n",
    "from numpy import random\n",
    "computer_pick = random.randint(1,11)\n",
    "\n",
    "# setting guess_limit\n",
    "count = 0\n",
    "guess_limit = 5\n",
    "\n",
    "# input player's name\n",
    "name = input(\"Please input your name: \")\n",
    "\n",
    "# Say hi and welcome player to the guessing game\n",
    "print('Welcome to the game '+name+ \" ^^~\")\n"
   ]
  },
  {
   "cell_type": "code",
   "execution_count": null,
   "metadata": {},
   "outputs": [],
   "source": []
  },
  {
   "cell_type": "code",
   "execution_count": 8,
   "metadata": {},
   "outputs": [
    {
     "name": "stdout",
     "output_type": "stream",
     "text": [
      "Please choose a number from 1 to 10: 8\n",
      "Your guess is too low :(\n",
      "Please choose a number from 1 to 10: 7\n",
      "Your guess is too low :(\n",
      "Please choose a number from 1 to 10: 9\n",
      "Congratulations! You made it in 3 try/tries~\n"
     ]
    }
   ],
   "source": [
    "# guess = input the number you guess\n",
    "# develop while loop\n",
    "\n",
    "while count < guess_limit:\n",
    "    count = count +1 \n",
    "    player_guess = int(input('Please choose a number from 1 to 10: '))\n",
    "    if player_guess == computer_pick:\n",
    "        print('Congratulations! You made it in ' + str(count) + ' try/tries~')\n",
    "        break\n",
    "    elif player_guess < computer_pick:\n",
    "        print('Your guess is too low :(')\n",
    "    elif int(player_guess) > computer_pick:\n",
    "        print('Your guess is too high :(')\n",
    "\n",
    "if count == guess_limit and player_guess != computer_pick:\n",
    "    print(\"The correct answer is \" + str(computer_pick) + \"! Better luck next time :(\")\n",
    "\n",
    "# stop the game when you find out the correct number after xx times (xx <= 5) OR the guessing number in your 5th attempt is still wrong\n",
    "\n"
   ]
  },
  {
   "cell_type": "code",
   "execution_count": null,
   "metadata": {},
   "outputs": [],
   "source": []
  },
  {
   "cell_type": "code",
   "execution_count": null,
   "metadata": {},
   "outputs": [],
   "source": []
  },
  {
   "cell_type": "code",
   "execution_count": null,
   "metadata": {},
   "outputs": [],
   "source": []
  },
  {
   "cell_type": "code",
   "execution_count": null,
   "metadata": {},
   "outputs": [],
   "source": []
  }
 ],
 "metadata": {
  "kernelspec": {
   "display_name": "Python 3 (ipykernel)",
   "language": "python",
   "name": "python3"
  },
  "language_info": {
   "codemirror_mode": {
    "name": "ipython",
    "version": 3
   },
   "file_extension": ".py",
   "mimetype": "text/x-python",
   "name": "python",
   "nbconvert_exporter": "python",
   "pygments_lexer": "ipython3",
   "version": "3.9.12"
  }
 },
 "nbformat": 4,
 "nbformat_minor": 2
}
